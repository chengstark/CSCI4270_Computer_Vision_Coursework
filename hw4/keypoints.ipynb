{
 "cells": [
  {
   "cell_type": "markdown",
   "metadata": {},
   "source": [
    "### Keypoint detection demo\n",
    "\n",
    "The main point of this notebook demonstrates the details of the Harris keypoint detector.  It ends with an example of using the SIFT class in OpenCV\n"
   ]
  },
  {
   "cell_type": "code",
   "execution_count": 9,
   "metadata": {
    "pycharm": {
     "is_executing": false
    }
   },
   "outputs": [],
   "source": [
    "import cv2         \n",
    "import numpy as np\n",
    "from matplotlib import pyplot as plt"
   ]
  },
  {
   "cell_type": "code",
   "execution_count": 10,
   "metadata": {
    "pycharm": {
     "is_executing": false
    }
   },
   "outputs": [],
   "source": [
    "'''  We'll test with license plate images from the web '''\n",
    "\n",
    "# im_name = '../test_images/license_plates/florida-plate.jpg'\n",
    "im_name = '../examples/wisconsin.jpg'\n",
    "im = cv2.imread('im_name', cv2.IMREAD_GRAYSCALE)\n",
    "# ipu.show_with_pixel_values(im)"
   ]
  },
  {
   "cell_type": "markdown",
   "metadata": {},
   "source": [
    "The next block of code performs the steps of computing the Harris measure."
   ]
  },
  {
   "cell_type": "code",
   "execution_count": 11,
   "metadata": {
    "pycharm": {
     "is_executing": false
    }
   },
   "outputs": [
    {
     "traceback": [
      "\u001b[0;31m---------------------------------------------------------------------------\u001b[0m",
      "\u001b[0;31mAttributeError\u001b[0m                            Traceback (most recent call last)",
      "\u001b[0;32m<ipython-input-11-9e27305e0bb9>\u001b[0m in \u001b[0;36m<module>\u001b[0;34m\u001b[0m\n\u001b[1;32m      2\u001b[0m \u001b[0msigma\u001b[0m \u001b[0;34m=\u001b[0m \u001b[0;36m1\u001b[0m\u001b[0;34m\u001b[0m\u001b[0;34m\u001b[0m\u001b[0m\n\u001b[1;32m      3\u001b[0m \u001b[0mksize\u001b[0m \u001b[0;34m=\u001b[0m \u001b[0;34m(\u001b[0m\u001b[0;36m4\u001b[0m\u001b[0;34m*\u001b[0m\u001b[0msigma\u001b[0m\u001b[0;34m+\u001b[0m\u001b[0;36m1\u001b[0m\u001b[0;34m,\u001b[0m\u001b[0;36m4\u001b[0m\u001b[0;34m*\u001b[0m\u001b[0msigma\u001b[0m\u001b[0;34m+\u001b[0m\u001b[0;36m1\u001b[0m\u001b[0;34m)\u001b[0m\u001b[0;34m\u001b[0m\u001b[0;34m\u001b[0m\u001b[0m\n\u001b[0;32m----> 4\u001b[0;31m \u001b[0mim_s\u001b[0m \u001b[0;34m=\u001b[0m \u001b[0mcv2\u001b[0m\u001b[0;34m.\u001b[0m\u001b[0mGaussianBlur\u001b[0m\u001b[0;34m(\u001b[0m\u001b[0mim\u001b[0m\u001b[0;34m.\u001b[0m\u001b[0mastype\u001b[0m\u001b[0;34m(\u001b[0m\u001b[0mnp\u001b[0m\u001b[0;34m.\u001b[0m\u001b[0mfloat32\u001b[0m\u001b[0;34m)\u001b[0m\u001b[0;34m,\u001b[0m \u001b[0mksize\u001b[0m\u001b[0;34m,\u001b[0m \u001b[0msigma\u001b[0m\u001b[0;34m)\u001b[0m\u001b[0;34m\u001b[0m\u001b[0;34m\u001b[0m\u001b[0m\n\u001b[0m\u001b[1;32m      5\u001b[0m \u001b[0;34m\u001b[0m\u001b[0m\n\u001b[1;32m      6\u001b[0m \u001b[0;34m'''  Derivative kernels '''\u001b[0m\u001b[0;34m\u001b[0m\u001b[0;34m\u001b[0m\u001b[0m\n",
      "\u001b[0;31mAttributeError\u001b[0m: 'NoneType' object has no attribute 'astype'"
     ],
     "ename": "AttributeError",
     "evalue": "'NoneType' object has no attribute 'astype'",
     "output_type": "error"
    }
   ],
   "source": [
    "'''  Gaussian smoothing '''\n",
    "sigma = 1\n",
    "ksize = (4*sigma+1,4*sigma+1)\n",
    "im_s = cv2.GaussianBlur(im.astype(np.float32), ksize, sigma)\n",
    "\n",
    "'''  Derivative kernels '''\n",
    "kx,ky = cv2.getDerivKernels(1,1,3)\n",
    "kx = np.transpose(kx/2)\n",
    "ky = ky/2\n",
    "\n",
    "'''  Derivatives '''\n",
    "im_dx = cv2.filter2D(im_s,-1,kx)\n",
    "im_dy = cv2.filter2D(im_s,-1,ky)\n",
    "\n",
    "''' Components of the outer product '''\n",
    "im_dx_sq = im_dx * im_dx\n",
    "im_dy_sq = im_dy * im_dy\n",
    "im_dx_dy = im_dx * im_dy\n",
    "\n",
    "''' Convolution of the outer product with the Gaussian kernel\n",
    "    gives the summed values desired '''\n",
    "h_sigma = 2*sigma\n",
    "h_ksize = (4*h_sigma+1,4*h_sigma+1)\n",
    "im_dx_sq = cv2.GaussianBlur(im_dx_sq, h_ksize, h_sigma)\n",
    "im_dy_sq = cv2.GaussianBlur(im_dy_sq, h_ksize, h_sigma)\n",
    "im_dx_dy = cv2.GaussianBlur(im_dx_dy, h_ksize, h_sigma)\n",
    "\n",
    "''' Compute the Harris measure '''\n",
    "kappa = 0.004\n",
    "im_det = im_dx_sq * im_dy_sq - im_dx_dy * im_dx_dy\n",
    "im_trace = im_dx_sq + im_dy_sq\n",
    "im_harris = im_det - kappa * im_trace*im_trace\n",
    "\n",
    "''' Show the gray scale image and the Harris image '''"
   ]
  },
  {
   "cell_type": "markdown",
   "metadata": {},
   "source": [
    "Now we come to the peak detection and non-maximum suppression step.  This requires use of a combination of thresholding, dilation, pixel-by-pixel comparison, and image multiplication.  See if you can understand the following steps."
   ]
  },
  {
   "cell_type": "code",
   "execution_count": null,
   "metadata": {
    "pycharm": {
     "is_executing": false
    }
   },
   "outputs": [],
   "source": [
    "''' Renormalize the intensities into the 0..255 range '''\n",
    "i_min = np.min(im_harris)\n",
    "i_max = np.max(im_harris)\n",
    "print(\"Before normalization the minimum and maximum harris measures are\",\n",
    "     i_min, i_max)\n",
    "im_harris = 255 * (im_harris - i_min) / (i_max-i_min)\n",
    "\n",
    "'''\n",
    "Apply non-maximum thresholding using dilation, which requires the image\n",
    "to be uint8.  Comparing the dilated image to the Harris image will preserve\n",
    "only those locations that are peaks.\n",
    "'''\n",
    "max_dist = 2*sigma\n",
    "kernel = np.ones((2*max_dist+1, 2*max_dist+1), np.uint8)\n",
    "im_harris_dilate = cv2.dilate(im_harris.astype(np.uint8), kernel)\n",
    "im_harris[np.where(im_harris < im_harris_dilate)] = 0\n",
    "\n",
    "\n",
    "'''\n",
    "Get the normalized Harris measures of the peaks\n",
    "'''\n",
    "peak_values = im_harris[np.where(im_harris>0)]\n",
    "peak_values = np.sort(peak_values, axis=None)\n",
    "print(\"After NMS, there are %d peaks and this is %.2f of the total number of pixels\"\n",
    "      % (len(peak_values), len(peak_values)/im_harris.size))\n",
    "print(\"And, the top, middle and bottom values are\",\n",
    "      peak_values[-1], peak_values[len(peak_values)//2], peak_values[0])\n",
    "\n",
    "'''\n",
    "Keep only those that are in the top fraction.\n",
    "'''\n",
    "threshold_frac = 0.25\n",
    "threshold_index = int((1-threshold_frac)*len(peak_values))\n",
    "threshold = peak_values[threshold_index]\n",
    "print(\"The threshold to keep only the top %.1f percent of the peaks is %.1f\"\n",
    "      % (threshold_frac*100, threshold))\n",
    "_, im_harris_thresh = cv2.threshold(im_harris.astype(np.uint8), threshold,\n",
    "                                 1, cv2.THRESH_BINARY)\n"
   ]
  },
  {
   "cell_type": "markdown",
   "metadata": {},
   "source": [
    "As the last step we need to extract the Harris keypoints and convert them to OpenCV KeyPoint objects.  Once we do this, we can display the keypoints on the original image. "
   ]
  },
  {
   "cell_type": "code",
   "execution_count": null,
   "metadata": {
    "scrolled": true,
    "pycharm": {
     "is_executing": false
    }
   },
   "outputs": [],
   "source": [
    "'''  Extract all indices '''\n",
    "indices = np.where(im_harris_thresh > 0)\n",
    "ys,xs = indices[0],indices[1]   # rows and columns\n",
    "\n",
    "''' Put them into the keypoint list '''\n",
    "kp_size = 4*sigma\n",
    "harris_keypoints = [\n",
    "    cv2.KeyPoint(xs[i], ys[i], kp_size)\n",
    "    for i in range(len(xs))\n",
    "]\n",
    "\n",
    "print(\"We have\", len(harris_keypoints), \"keypoints.\")\n",
    "\n",
    "out_img = cv2.drawKeypoints( im.astype(np.uint8), harris_keypoints, None)\n"
   ]
  },
  {
   "cell_type": "markdown",
   "metadata": {},
   "source": [
    "#### About SIFT: \n",
    "\n",
    "While SIFT has been incorporated into OpenCV, it is a patented algorithm.  Therefore, it is not distributed in the pre-built versions of OpenCV, not even of the opencv-contrib-python I suggested in the syllabus that you install. The only way to get SIFT with OpenCV is to build from scratch with modified compiler settings.  I am choosing to not require each student in the class to do this.\n",
    "\n",
    "The SIFT patent may have already expired, or will expire soon.  Therefore, the non-use of SIFT for class will end when a pre-built "
   ]
  },
  {
   "cell_type": "markdown",
   "metadata": {},
   "source": [
    "#### ORB instead:\n",
    "\n",
    "Following the publication of SIFT, especially the 2004 IJCV version, there was an explosion of research on alternative algorithms. One of these, ORB, was developed and published in 2011 at ICCV, by the original designers of OpenCV. We will use this in class and in your homework to match images and stitch them together. We will not consider too much the details of how ORB works, but will employ the fact that it does produce both keypoint locations and descriptors. For now, we will only look at the ORB detection results.  Many other keypoint and descriptor algorithms have been contributed to OpenCV as can be seen in the class hierarchy for cv::Feature2D https://docs.opencv.org/4.1.1/d0/d13/classcv_1_1Feature2D.html"
   ]
  },
  {
   "cell_type": "code",
   "execution_count": null,
   "metadata": {
    "pycharm": {
     "is_executing": false
    }
   },
   "outputs": [],
   "source": [
    "im_name = '../test_images/license_plates/wisconsin-plate.jpg'\n",
    "im = cv2.imread(im_name, cv2.IMREAD_GRAYSCALE)\n",
    "\n",
    "num_features = 1000\n",
    "orb = cv2.ORB_create(num_features)        # See method doc for other parameters\n",
    "kp, des = orb.detectAndCompute(im, None)  # The None argument is where a binary mask could be\n",
    "\n",
    "print(\"There are %d keypoints and descriptors, and each descriptor is length %d\"\n",
    "      % (len(kp), len(des[0])))\n",
    "\n",
    "print('\\nHere the first 10 keypoints')\n",
    "for k in kp[:10]:\n",
    "    print(k.response, k.pt, k.angle, k.size)\n",
    "\n",
    "out_im = cv2.drawKeypoints(im, kp, None)\n"
   ]
  },
  {
   "cell_type": "code",
   "execution_count": null,
   "metadata": {
    "pycharm": {
     "is_executing": false
    }
   },
   "outputs": [],
   "source": []
  }
 ],
 "metadata": {
  "kernelspec": {
   "display_name": "Python 3",
   "language": "python",
   "name": "python3"
  },
  "language_info": {
   "codemirror_mode": {
    "name": "ipython",
    "version": 3
   },
   "file_extension": ".py",
   "mimetype": "text/x-python",
   "name": "python",
   "nbconvert_exporter": "python",
   "pygments_lexer": "ipython3",
   "version": "3.7.3"
  },
  "pycharm": {
   "stem_cell": {
    "cell_type": "raw",
    "source": [],
    "metadata": {
     "collapsed": false
    }
   }
  }
 },
 "nbformat": 4,
 "nbformat_minor": 1
}